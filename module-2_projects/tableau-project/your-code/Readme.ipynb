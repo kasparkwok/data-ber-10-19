{
 "cells": [
  {
   "cell_type": "markdown",
   "metadata": {},
   "source": [
    "## NBA Analysis"
   ]
  },
  {
   "cell_type": "markdown",
   "metadata": {},
   "source": [
    "I have compiled 3 different datasets in order to explore multiple interesting trends over the last 4 decades in NBA. \n",
    "\n",
    "The Tableau link is attached below:\n",
    "https://public.tableau.com/profile/kaspar.kwok#!/vizhome/NBAAnalysis_15734278787170/ANDYTOEXPLORE_NBAPlayer3s2?publish=yes\n",
    "\n",
    "Please view the database used in this project in Github\n",
    "Link: "
   ]
  }
 ],
 "metadata": {
  "kernelspec": {
   "display_name": "Python 3",
   "language": "python",
   "name": "python3"
  },
  "language_info": {
   "codemirror_mode": {
    "name": "ipython",
    "version": 3
   },
   "file_extension": ".py",
   "mimetype": "text/x-python",
   "name": "python",
   "nbconvert_exporter": "python",
   "pygments_lexer": "ipython3",
   "version": "3.7.0"
  }
 },
 "nbformat": 4,
 "nbformat_minor": 2
}
