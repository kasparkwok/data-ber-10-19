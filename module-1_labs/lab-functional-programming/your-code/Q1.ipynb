{
 "cells": [
  {
   "cell_type": "markdown",
   "metadata": {},
   "source": [
    "In the cell below, create a Python function that wraps your previous solution for the Bag of Words lab.\n",
    "\n",
    "Requirements:\n",
    "\n",
    "1. Your function should accept the following parameters:\n",
    "    * `docs` [REQUIRED] - array of document paths.\n",
    "    * `stop_words` [OPTIONAL] - array of stop words. The default value is an empty array.\n",
    "\n",
    "1. Your function should return a Python object that contains the following:\n",
    "    * `bag_of_words` - array of strings of normalized unique words in the corpus.\n",
    "    * `term_freq` - array of the term-frequency vectors."
   ]
  },
  {
   "cell_type": "code",
   "execution_count": 7,
   "metadata": {},
   "outputs": [],
   "source": [
    "# Import required libraries\n",
    "\n",
    "# Define function\n",
    "def get_bow_from_docs(docs, stop_words=[]):\n",
    "    \n",
    "    # In the function, first define the variables you will use such as `corpus`, `bag_of_words`, and `term_freq`.\n",
    " \n",
    "    \"\"\"\n",
    "    Loop `docs` and read the content of each doc into a string in `corpus`.\n",
    "    Remember to convert the doc content to lowercases and remove punctuation.\n",
    "    \"\"\"\n",
    "    corpus = []\n",
    "\n",
    "    for doc in docs:\n",
    "        a=open(doc,\"r\").read().lower().replace(\".\",\"\")\n",
    "        corpus.append(a)\n",
    "    \n",
    "    \n",
    "    \"\"\"\n",
    "    Loop `corpus`. Append the terms in each doc into the `bag_of_words` array. The terms in `bag_of_words` \n",
    "    should be unique which means before adding each term you need to check if it's already added to the array.\n",
    "    In addition, check if each term is in the `stop_words` array. Only append the term to `bag_of_words`\n",
    "    if it is not a stop word.\n",
    "    \"\"\"\n",
    "    bag_of_words=[]\n",
    "    for string in corpus:\n",
    "        new_string=string.split()\n",
    "        for word in new_string:\n",
    "            if word not in bag_of_words:\n",
    "                bag_of_words.append(word)\n",
    "    \n",
    "    \n",
    "    \n",
    "    \n",
    "    \n",
    "    \n",
    "    \n",
    "    \"\"\"\n",
    "    Loop `corpus` again. For each doc string, count the number of occurrences of each term in `bag_of_words`. \n",
    "    Create an array for each doc's term frequency and append it to `term_freq`.\n",
    "    \"\"\"\n",
    "    term_freq = []\n",
    "    for string in corpus:\n",
    "        new_string=string.split()\n",
    "        temp=[]\n",
    "        for word in bag_of_words:\n",
    "            temp.append(new_string.count(word))\n",
    "        term_freq.append(temp)\n",
    "    \n",
    "    # Now return your output as an object\n",
    "    return {\n",
    "        \"bag_of_words\": bag_of_words,\n",
    "        \"term_freq\": term_freq\n",
    "    }\n"
   ]
  },
  {
   "cell_type": "markdown",
   "metadata": {},
   "source": [
    "Test your function without stop words. You should see the output like below:\n",
    "\n",
    "```{'bag_of_words': ['ironhack', 'is', 'cool', 'i', 'love', 'am', 'a', 'student', 'at'], 'term_freq': [[1, 1, 1, 0, 0, 0, 0, 0, 0], [1, 0, 0, 1, 1, 0, 0, 0, 0], [1, 0, 0, 1, 0, 1, 1, 1, 1]]}```"
   ]
  },
  {
   "cell_type": "code",
   "execution_count": 21,
   "metadata": {},
   "outputs": [
    {
     "name": "stdout",
     "output_type": "stream",
     "text": [
      "{'bag_of_words': ['ironhack', 'is', 'cool', 'i', 'love', 'am', 'a', 'student', 'at'], 'term_freq': [[1, 1, 1, 0, 0, 0, 0, 0, 0], [1, 0, 0, 1, 1, 0, 0, 0, 0], [1, 0, 0, 1, 0, 1, 1, 1, 1]]}\n"
     ]
    }
   ],
   "source": [
    "# Define doc paths array\n",
    "docs = ['../../lab-string-operations/your-code/doc1.txt', '../../lab-string-operations/your-code/doc2.txt', '../../lab-string-operations/your-code/doc3.txt']\n",
    "\n",
    "# Obtain BoW from your function\n",
    "bow = get_bow_from_docs(docs)\n",
    "\n",
    "# Print BoW\n",
    "print(bow)"
   ]
  },
  {
   "cell_type": "markdown",
   "metadata": {},
   "source": [
    "If your attempt above is successful, nice work done!\n",
    "\n",
    "Now test your function again with the stop words. In the previous lab we defined the stop words in a large array. In this lab, we'll import the stop words from Scikit-Learn."
   ]
  },
  {
   "cell_type": "code",
   "execution_count": 25,
   "metadata": {},
   "outputs": [
    {
     "name": "stdout",
     "output_type": "stream",
     "text": [
      "frozenset({'un', 'put', 'few', 'seem', 'through', 'de', 'whether', 'full', 'before', 'hers', 'more', 'against', 'please', 'seeming', 'nevertheless', 'herein', 'either', 'five', 'around', 'or', 'their', 'about', 'who', 'whither', 'out', 'a', 'towards', 'him', 'whence', 'in', 'almost', 'at', 'could', 'same', 'these', 'someone', 'mine', 'there', 'mostly', 'you', 'some', 'latter', 'wherever', 'anyway', 'anything', 'one', 'fill', 'even', 'herself', 'whom', 'several', 'whatever', 'thin', 'therein', 'becoming', 'fire', 'our', 'ltd', 'otherwise', 'hereupon', 'into', 'yourself', 'forty', 'behind', 'whenever', 'itself', 'serious', 'it', 'noone', 'amount', 'yours', 'sometimes', 'too', 'toward', 'inc', 'only', 'fifteen', 'none', 'hereby', 'on', 'cannot', 'have', 'four', 'again', 'she', 'give', 'another', 'first', 'perhaps', 'meanwhile', 'con', 'seems', 'sometime', 'beforehand', 'i', 'own', 'three', 'most', 'within', 'others', 'became', 'together', 'hasnt', 'once', 'per', 'thru', 'her', 'we', 'less', 'such', 'empty', 'beyond', 'since', 'can', 'nobody', 'well', 'each', 'ie', 'may', 'beside', 'keep', 'below', 'anyone', 'that', 'with', 'across', 'after', 'everything', 'besides', 'interest', 'twelve', 'move', 'for', 'as', 'mill', 'whereafter', 'though', 'every', 'two', 'are', 'back', 'whoever', 'go', 'still', 'between', 'alone', 'else', 'without', 'bill', 'would', 'to', 'whose', 'next', 'has', 'namely', 'part', 'while', 'enough', 'they', 'thus', 'ever', 'was', 'whole', 'thick', 'call', 'the', 'thereafter', 'until', 'up', 'etc', 'becomes', 'seemed', 'therefore', 'and', 'us', 'ten', 'throughout', 'me', 'formerly', 'how', 'will', 'third', 'hereafter', 'six', 'sincere', 'by', 'made', 'least', 'latterly', 'off', 'all', 'its', 'afterwards', 'anyhow', 'detail', 'must', 'he', 'had', 'my', 'but', 'any', 'already', 'whereas', 'often', 'when', 'elsewhere', 'this', 'hence', 'here', 'am', 'show', 'eg', 'where', 'nine', 'co', 'then', 'themselves', 'onto', 'many', 'everyone', 'nothing', 'eleven', 'rather', 'fifty', 'down', 'were', 'somewhere', 'be', 'an', 'which', 'although', 'wherein', 'side', 'cant', 'moreover', 'amoungst', 'ourselves', 'ours', 'amongst', 're', 'anywhere', 'from', 'himself', 'become', 'system', 'front', 'somehow', 'because', 'should', 'yourselves', 'take', 'them', 'everywhere', 'cry', 'yet', 'along', 'among', 'do', 'whereby', 'whereupon', 'due', 'further', 'indeed', 'name', 'so', 'last', 'now', 'his', 'being', 'done', 'during', 'twenty', 'neither', 'thence', 'however', 'except', 'what', 'not', 'those', 'hundred', 'thereupon', 'via', 'both', 'if', 'nowhere', 'eight', 'thereby', 'former', 'much', 'other', 'top', 'bottom', 'sixty', 'no', 'myself', 'than', 'nor', 'get', 'over', 'upon', 'might', 'above', 'find', 'describe', 'found', 'very', 'your', 'of', 'always', 'something', 'also', 'couldnt', 'see', 'under', 'never', 'been', 'why', 'is'})\n"
     ]
    }
   ],
   "source": [
    "from sklearn.feature_extraction import stop_words\n",
    "print(stop_words.ENGLISH_STOP_WORDS)"
   ]
  },
  {
   "cell_type": "markdown",
   "metadata": {},
   "source": [
    "You should have seen a large list of words that looks like:\n",
    "\n",
    "```frozenset({'across', 'mine', 'cannot', ...})```\n",
    "\n",
    "`frozenset` is a type of Python object that is immutable. In this lab you can use it just like an array without conversion."
   ]
  },
  {
   "cell_type": "markdown",
   "metadata": {},
   "source": [
    "Next, test your function with supplying `stop_words.ENGLISH_STOP_WORDS` as the second parameter."
   ]
  },
  {
   "cell_type": "code",
   "execution_count": 26,
   "metadata": {},
   "outputs": [
    {
     "name": "stdout",
     "output_type": "stream",
     "text": [
      "{'bag_of_words': ['ironhack', 'is', 'cool', 'i', 'love', 'am', 'a', 'student', 'at'], 'term_freq': [[1, 1, 1, 0, 0, 0, 0, 0, 0], [1, 0, 0, 1, 1, 0, 0, 0, 0], [1, 0, 0, 1, 0, 1, 1, 1, 1]]}\n"
     ]
    }
   ],
   "source": [
    "bow = get_bow_from_docs(['../../lab-string-operations/your-code/doc1.txt', '../../lab-string-operations/your-code/doc2.txt', '../../lab-string-operations/your-code/doc3.txt'], stop_words.ENGLISH_STOP_WORDS)\n",
    "\n",
    "print(bow)"
   ]
  },
  {
   "cell_type": "markdown",
   "metadata": {},
   "source": [
    "You should have seen:\n",
    "\n",
    "```{'bag_of_words': ['ironhack', 'cool', 'love', 'student'], 'term_freq': [[1, 1, 0, 0], [1, 0, 1, 0], [1, 0, 0, 1]]}```"
   ]
  },
  {
   "cell_type": "code",
   "execution_count": 27,
   "metadata": {},
   "outputs": [
    {
     "data": {
      "text/plain": [
       "20"
      ]
     },
     "execution_count": 27,
     "metadata": {},
     "output_type": "execute_result"
    }
   ],
   "source": [
    "haha=[0.948664301130462,0.2152852117754701,0.9182696050929382,0.599951359800535,0.7551203080129055,0.9716089362466106,0.103190229770461,0.19475408913470593,0.9323875156439115,0.591726654816091,0.6975169398198234,0.607354848230192,0.17764944933372673,0.4359683944262086,0.20240395335182992,0.9797769100366699,0.09571302119663616,0.1590400478509707,0.6514571064057565,0.8033930409580708]\n",
    "len(haha)"
   ]
  },
  {
   "cell_type": "code",
   "execution_count": 28,
   "metadata": {},
   "outputs": [
    {
     "name": "stdout",
     "output_type": "stream",
     "text": [
      "20 20 20 20\n"
     ]
    }
   ],
   "source": [
    "b=[0.16323636282694376,0.803926316464364,0.9166552105313126,0.7752339688339761,0.6448902231702264,0.7013619954419494,0.9102079618289258,0.8712035961024672,0.3217447355137709,0.5860350403896318,0.8870537312874786,0.24005977840573467,0.915341839380257,0.2053102151670132,0.4895039714473951,0.8489259164852261,0.30434217227900373,0.35897737854594747,0.8415392556348382,0.9648886658100323]\n",
    "c=[0.9341361023782745,0.03141010322967197,0.9540565244826162,0.8533873364185985,0.6421597654645281,0.6811844282734841,0.31719772037092164,0.8752586492257234,0.5384156481896,0.8675113261037845,0.8133086138445641,0.21562380954864946,0.5520623761438371,0.49837801345745225,0.7396561066717461,0.30791424026217096,0.23399598890066087,0.6021659803427502,0.24420966856409287,0.31307115468119917]\n",
    "d=[0.7570384010450522,0.9189637493493394,0.4754587873929119,0.8376860918849494,0.1496445112584448,0.8190320451738211,0.6119960771269514,0.6443475752575482,0.9384436225941937,0.4104444389546006,0.561513449931466,0.4992305018758145,0.8564368122654824,0.05461877387136771,0.326310488591843,0.4618252891557322,0.954783314680248,0.3618731953575265,0.14595209068285175,0.873029248944363]\n",
    "e=[0.26345486542850505,0.8162825701475874,0.3367069101054495,0.5879965111710725,0.2858710931156775,0.6199423848917528,0.01802664089678241,0.5488446356803423,0.12147091292151535,0.1942994033881038,0.149844081034732,0.848865583423898,0.5318397167973913,0.6633843437098883,0.08488373521964276,0.12031207330543914,0.4632141908263697,0.43788932820615845,0.5423761737282482,0.6684471908103284]\n",
    "\n",
    "\n",
    "print(\n",
    "    len(b),len(c),len(d),len(e))"
   ]
  },
  {
   "cell_type": "code",
   "execution_count": null,
   "metadata": {},
   "outputs": [],
   "source": []
  }
 ],
 "metadata": {
  "kernelspec": {
   "display_name": "Python 3",
   "language": "python",
   "name": "python3"
  },
  "language_info": {
   "codemirror_mode": {
    "name": "ipython",
    "version": 3
   },
   "file_extension": ".py",
   "mimetype": "text/x-python",
   "name": "python",
   "nbconvert_exporter": "python",
   "pygments_lexer": "ipython3",
   "version": "3.7.0"
  }
 },
 "nbformat": 4,
 "nbformat_minor": 2
}
